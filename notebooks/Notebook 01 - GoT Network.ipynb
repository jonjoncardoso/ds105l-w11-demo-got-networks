{
    "cells": [
        {
            "attachments": {},
            "cell_type": "markdown",
            "metadata": {},
            "source": [
                "<font style='font-size:1.5em'>🗓️ Week 11 – Applications II: <span style='color:#eaeaea'>text mining  \\&</span> network analysis</font>\n",
                "\n",
                "<font style='font-size:1.2em'>DS105L – Data for Data Science</font>\n",
                "\n",
                "**AUTHOR:**  Dr. [Jon Cardoso-Silva](https://www.lse.ac.uk/DSI/People/Jonathan-Cardoso-Silva)\n",
                "\n",
                "**DEPARTMENT:** [LSE Data Science Institute](https://twitter.com/lsedatascience)\n",
                "\n",
                "**DATE:** 31 March 2023\n",
                "\n",
                "\n",
                "---\n"
            ]
        },
        {
            "cell_type": "markdown",
            "metadata": {},
            "source": [
                "## Imports \n",
                "Section with library imports."
            ]
        },
        {
            "cell_type": "code",
            "execution_count": null,
            "metadata": {},
            "outputs": [],
            "source": [
                "import pandas as pd\n",
                "import networkx as nx\n",
                "import altair as alt\n",
                "\n",
                "DATA_DIR = '../data'"
            ]
        },
        {
            "attachments": {},
            "cell_type": "markdown",
            "metadata": {},
            "source": [
                "### Custom functions\n",
                "Section with some general functions used over the notebook"
            ]
        },
        {
            "cell_type": "code",
            "execution_count": null,
            "metadata": {},
            "outputs": [],
            "source": [
                "def read_data(data, data_dir=DATA_DIR):\n",
                "    \"\"\"Reads a JSON file and returns a dataframe.\n",
                "\n",
                "    Args:\n",
                "        data (str): Name of the JSON file.\n",
                "        data_dir (str): Path to the directory where the JSON file is located.\n",
                "\n",
                "    Returns:\n",
                "        df (pandas.DataFrame): Dataframe containing the data from the JSON file.\n",
                "\n",
                "    Raises:\n",
                "        NotImplementedError: If the JSON file contains more than one list.\n",
                "                             Know how to handle this? Please open a PR!\n",
                "    \"\"\"\n",
                "\n",
                "    # I found it easier to read the JSON file as a series and then convert it to a dataframe\n",
                "    df = pd.read_json(f'{data_dir}/{data}.json', typ='series')\n",
                "\n",
                "    # If the JSON file only contains one single list, parse it as a dataframe\n",
                "    if len(df) == 1:\n",
                "        df = pd.DataFrame.from_dict(df.iloc[0])\n",
                "    else:\n",
                "        error = f'JSON file {data} contains more than one list. Please check the file.'\n",
                "        raise NotImplementedError(error)\n",
                "\n",
                "    return df\n",
                "\n",
                "def convert_time_to_minutes(x):\n",
                "    \"\"\"\n",
                "    Converts a string of the form '0:01:45' to minutes.\n",
                "    Thanks, CoPilot 🤖! You saved me a lot of time here.\n",
                "    \"\"\"\n",
                "\n",
                "    # Split the string by ':'\n",
                "    x = x.split(':')\n",
                "\n",
                "    # Convert the list of strings to integers\n",
                "    x = [int(i) for i in x]\n",
                "\n",
                "    # Convert the list of integers to seconds\n",
                "    x = x[0] * 60*60 + x[1]  * 60 + x[2]\n",
                "\n",
                "    return x / 60"
            ]
        },
        {
            "attachments": {},
            "cell_type": "markdown",
            "metadata": {},
            "source": [
                "# 💽 1: The Data\n",
                "\n",
                "I am using data collected by [jeffreylancaster/game-of-thrones](https://github.com/jeffreylancaster/game-of-thrones) to create a network of characters from the Game of Thrones series. \n",
                "\n",
                "I cloned the repository and copied the `data` folder to the `data` folder of my project. Because the license of the data is permissive, I copied the data to my project and gave credit to the original author (always do that!).\n",
                "\n",
                "Anyways, let's look at the data I am using."
            ]
        },
        {
            "attachments": {},
            "cell_type": "markdown",
            "metadata": {},
            "source": [
                "## 1.1 Character data"
            ]
        },
        {
            "cell_type": "code",
            "execution_count": null,
            "metadata": {},
            "outputs": [],
            "source": [
                "df_characters = read_data('characters')\n",
                "df_characters[['characterName', 'houseName', 'royal']].head(20)"
            ]
        },
        {
            "attachments": {},
            "cell_type": "markdown",
            "metadata": {},
            "source": [
                "## 1.2 Characters groups\n",
                "\n",
                "Not that this sounds suuper useful."
            ]
        },
        {
            "cell_type": "code",
            "execution_count": null,
            "metadata": {},
            "outputs": [],
            "source": [
                "df_characters_groups = read_data('characters-groups')\n",
                "df_characters_groups"
            ]
        },
        {
            "attachments": {},
            "cell_type": "markdown",
            "metadata": {},
            "source": [
                "## 1.3 Episode data ⭐ \n",
                "\n",
                "This is the most interesting dataset."
            ]
        },
        {
            "cell_type": "code",
            "execution_count": null,
            "metadata": {},
            "outputs": [],
            "source": [
                "df_episodes = read_data('episodes')\n",
                "df_episodes.shape"
            ]
        },
        {
            "cell_type": "code",
            "execution_count": null,
            "metadata": {},
            "outputs": [],
            "source": [
                "# Check how it looks like\n",
                "df_episodes.head(2)"
            ]
        },
        {
            "attachments": {},
            "cell_type": "markdown",
            "metadata": {},
            "source": [
                "**Let's look closer at the first episode:**"
            ]
        },
        {
            "cell_type": "code",
            "execution_count": null,
            "metadata": {},
            "outputs": [],
            "source": [
                "df_episodes.iloc[0]"
            ]
        },
        {
            "attachments": {},
            "cell_type": "markdown",
            "metadata": {},
            "source": [
                "## 1.4 Exploding scenes 💣\n",
                "\n",
                "What's in the 'scenes' column?"
            ]
        },
        {
            "cell_type": "code",
            "execution_count": null,
            "metadata": {},
            "outputs": [],
            "source": [
                "df_episodes.iloc[0]['scenes']"
            ]
        },
        {
            "cell_type": "code",
            "execution_count": null,
            "metadata": {},
            "outputs": [],
            "source": [
                "len(df_episodes.iloc[0]['scenes'])"
            ]
        },
        {
            "attachments": {},
            "cell_type": "markdown",
            "metadata": {},
            "source": [
                "That is neat! A JSON containing details about characters who co-appear in a scence.\n",
                "\n",
                "💡 _Later, we will use this data to create a **network** of characters that appear in the same scene._\n",
                "\n",
                "But first, let's expand the scenes using the good ol' `explode()` function from `pandas`."
            ]
        },
        {
            "cell_type": "code",
            "execution_count": null,
            "metadata": {},
            "outputs": [],
            "source": [
                "df_episodes.head(1).explode('scenes').head()"
            ]
        },
        {
            "attachments": {},
            "cell_type": "markdown",
            "metadata": {},
            "source": [
                "In case you forgot how `explode()` works, notice that a single row in the original data frame will be expanded into multiple rows, one for each element in the `scenes` list.  \n",
                "\n",
                "You can confirm that with the following:"
            ]
        },
        {
            "cell_type": "code",
            "execution_count": null,
            "metadata": {},
            "outputs": [],
            "source": [
                "print(f\"Exploding just the first row of df_episodes \"\n",
                "      f\"produces a df with shape: {df_episodes.head(1).explode('scenes').shape}\")"
            ]
        },
        {
            "attachments": {},
            "cell_type": "markdown",
            "metadata": {},
            "source": [
                "## 1.5 Building our final dataset"
            ]
        },
        {
            "cell_type": "code",
            "execution_count": null,
            "metadata": {},
            "outputs": [],
            "source": [
                "df_got = df_episodes.explode('scenes')\n",
                "\n",
                "# What's the new shape?\n",
                "df_got.shape"
            ]
        },
        {
            "attachments": {},
            "cell_type": "markdown",
            "metadata": {},
            "source": [
                "🔐 **Note to attentive reader:** do you fully understand what is going on in the cell below? Try running each element of the concat list separately and see if you can understand what is going on. If you don't and you are curious to learn more, just send me a message on Slack and I'll be more than happy to help you out."
            ]
        },
        {
            "cell_type": "code",
            "execution_count": null,
            "metadata": {},
            "outputs": [],
            "source": [
                "def get_characters_list(x):\n",
                "    \"\"\"Extracts the characters from the scenes.\n",
                "\n",
                "    Args:\n",
                "        x (dict): Dictionary containing the characters.\n",
                "\n",
                "    Returns:\n",
                "        characters (list): List of characters.\n",
                "    \"\"\"\n",
                "\n",
                "    # 🐰 Easter egg: there is more potentially useful information in the dictionary\n",
                "    # Can you find it?\n",
                "    characters = sorted([character['name'] for character in x['characters']])\n",
                "    characters = pd.Series({'characters': characters})\n",
                "    return characters\n",
                "\n",
                "df_got = pd.concat([df_got.drop(columns='scenes'),\n",
                "                    df_got['scenes'].apply(pd.Series).drop(columns='characters'),\n",
                "                    df_got['scenes'].apply(get_characters_list)\n",
                "                    ], axis=1)"
            ]
        },
        {
            "cell_type": "code",
            "execution_count": null,
            "metadata": {},
            "outputs": [],
            "source": [
                "print(f\"In the end, we are left with {df_got.shape[0]} scenes and {df_got.shape[1]} columns about them.\")"
            ]
        },
        {
            "cell_type": "code",
            "execution_count": null,
            "metadata": {},
            "outputs": [],
            "source": [
                "df_got.head(2)"
            ]
        },
        {
            "attachments": {},
            "cell_type": "markdown",
            "metadata": {},
            "source": [
                "# 📊 2: Some interactive visualizations\n",
                "\n",
                "Tired of static visualizations? Let's make some interactive ones using a library called Altair.\n",
                "\n",
                "[Altair](https://altair-viz.github.io/gallery/index.html) is a truly fantastic library for creating interactive visualizations in Python. It is built on top of [Vega-Lite](https://vega.github.io/vega-lite/), a JavaScript library for creating interactive visualizations.\n",
                "\n",
                "Another plus side of Altair is that, similar to what I've been saying about plotnine, it forces you to think about the **data** and not the **plot** itself. \n",
                "\n",
                "💡 **Because of this, if you chose to do all your visualisation in Altair, you will also be adhering to the final project dataviz library requirements.**"
            ]
        },
        {
            "attachments": {},
            "cell_type": "markdown",
            "metadata": {},
            "source": [
                "## 2.1 How many scenes are there per episode?\n",
                "\n",
                "Let's keep with the tradition of creating a `plot_df` dataframe with the data we want to plot. This way we minimise the risk of ruining our original data."
            ]
        },
        {
            "cell_type": "code",
            "execution_count": null,
            "metadata": {},
            "outputs": [],
            "source": [
                "selected_cols = ['seasonNum', 'episodeNum', 'sceneStart', \n",
                "                 'sceneEnd', 'characters', 'location', 'subLocation']\n",
                "\n",
                "plot_df = df_got[selected_cols].copy()\n",
                "plot_df"
            ]
        },
        {
            "attachments": {},
            "cell_type": "markdown",
            "metadata": {},
            "source": [
                "**Minor pre-processing:**\n",
                "\n",
                "- `sceneStart` and `sceneEnd` are strings, so we need to convert them to integers\n",
                "- it will be useful to have a `timeSpan` column, which is the difference between `sceneStart` and `sceneEnd`\n",
                "- I'll join the character names as a string, so that we can use it as a tooltip in the plot later\n",
                "- Add a `numCharacters` column, which is the number of characters in a scene"
            ]
        },
        {
            "cell_type": "code",
            "execution_count": null,
            "metadata": {},
            "outputs": [],
            "source": [
                "plot_df['sceneStart']    = plot_df['sceneStart'].apply(convert_time_to_minutes)\n",
                "plot_df['sceneEnd']      = plot_df['sceneEnd'].apply(convert_time_to_minutes)\n",
                "plot_df['timeSpan']      = plot_df['sceneEnd'] - plot_df['sceneStart']\n",
                "plot_df['numCharacters'] = plot_df['characters'].apply(len) \n",
                "plot_df['characters']    = plot_df['characters'].apply(lambda x: ', '.join(x))"
            ]
        },
        {
            "cell_type": "code",
            "execution_count": null,
            "metadata": {},
            "outputs": [],
            "source": [
                "plot_df.head()"
            ]
        },
        {
            "attachments": {},
            "cell_type": "markdown",
            "metadata": {},
            "source": [
                "In the lecture, I will build the plot below step by step, but here is the final result:"
            ]
        },
        {
            "cell_type": "code",
            "execution_count": null,
            "metadata": {},
            "outputs": [],
            "source": [
                "# Define the selection dropdown\n",
                "season_select = alt.binding_select(options=list(range(1, plot_df['seasonNum'].max()+1)))\n",
                "season_filter = alt.selection_point(fields=['seasonNum'], bind=season_select, name='Season', value=1)\n",
                "\n",
                "# Create the Altair chart\n",
                "chart = alt.Chart(plot_df).properties(\n",
                "    title='Scene visualizer',\n",
                "    width=1000,\n",
                "    height=400\n",
                ").add_params(\n",
                "    season_filter\n",
                ")\n",
                "\n",
                "# Add the rectangle marks\n",
                "rects = chart.mark_rect(color='lightgray', opacity=0.8, stroke='black', strokeWidth=0.5).encode(\n",
                "    y=alt.Y('episodeNum:N', axis=alt.Axis(title='Episode Number')),\n",
                "    x=alt.X('sceneStart:Q', axis=alt.Axis(title='Time Span (min)', values=list(range(0, 100, 10)))),\n",
                "    x2=alt.X2('sceneEnd:T'),\n",
                "    color=alt.Color('numCharacters:Q', \n",
                "                    legend=alt.Legend(title='Num Characters'),\n",
                "                    scale=alt.Scale(scheme='viridis')),\n",
                "    tooltip=[alt.Tooltip('location', title='Scene Location'),\n",
                "             alt.Tooltip('subLocation', title='Scene Sublocation'),\n",
                "             alt.Tooltip('numCharacters', title='Number of Characters'),\n",
                "             alt.Tooltip('characters', title='Names')]\n",
                ").transform_filter(\n",
                "    season_filter\n",
                ")\n",
                "\n",
                "chart = rects # + circles\n",
                "\n",
                "chart = chart.configure_title(fontSize=40)\n",
                "chart = chart.configure_axis(labelFontSize=20, titleFontSize=30, grid=False)\n",
                "chart = chart.configure_legend(labelFontSize=20, titleFontSize=20)\n",
                "\n",
                "chart"
            ]
        },
        {
            "attachments": {},
            "cell_type": "markdown",
            "metadata": {},
            "source": [
                "# 🕸️ 3: Network"
            ]
        }
    ],
    "metadata": {
        "kernelspec": {
            "display_name": "venv-got-demo",
            "language": "python",
            "name": "python3"
        },
        "language_info": {
            "codemirror_mode": {
                "name": "ipython",
                "version": 3
            },
            "file_extension": ".py",
            "mimetype": "text/x-python",
            "name": "python",
            "nbconvert_exporter": "python",
            "pygments_lexer": "ipython3",
            "version": "3.10.8"
        },
        "orig_nbformat": 4
    },
    "nbformat": 4,
    "nbformat_minor": 2
}
